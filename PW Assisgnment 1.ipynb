{
 "cells": [
  {
   "cell_type": "raw",
   "id": "3f82706c-0ff3-4e5a-b8ad-6be476d234bc",
   "metadata": {},
   "source": [
    "Q1. Create one variable containing following type of data:\n",
    "(i) string\n",
    "(ii) list\n",
    "(iii) float\n",
    "(iv) tuple"
   ]
  },
  {
   "cell_type": "code",
   "execution_count": null,
   "id": "612e843b-b50c-4af6-82f1-bb4dfe221f94",
   "metadata": {},
   "outputs": [],
   "source": [
    "A = (\"Road\", ['Path',35.5,250], 55.6, (\"Road\", ['Path',35.5,250], 55.6))"
   ]
  },
  {
   "cell_type": "code",
   "execution_count": 9,
   "id": "cbf596f4-e99d-48b2-84ca-307da5233935",
   "metadata": {},
   "outputs": [
    {
     "data": {
      "text/plain": [
       "('Road', ['Path', 35.5, 250], 55.6, ('Road', ['Path', 35.5, 250], 55.6))"
      ]
     },
     "execution_count": 9,
     "metadata": {},
     "output_type": "execute_result"
    }
   ],
   "source": [
    "A"
   ]
  },
  {
   "cell_type": "code",
   "execution_count": 14,
   "id": "c88c45bc-49c3-461f-9687-cd41dd7e3ffe",
   "metadata": {},
   "outputs": [
    {
     "data": {
      "text/plain": [
       "tuple"
      ]
     },
     "execution_count": 14,
     "metadata": {},
     "output_type": "execute_result"
    }
   ],
   "source": [
    "type(A)"
   ]
  },
  {
   "cell_type": "raw",
   "id": "fa67dfc9-ede1-42ba-94ae-1b806d354607",
   "metadata": {},
   "source": [
    "Q2. Given are some following variables containing data:\n",
    "(i) var1 = ‘ ‘\n",
    "(ii) var2 = ‘[ DS , ML , Python]’\n",
    "(iii) var3 = [ ‘DS’ , ’ML’ , ‘Python’ ]\n",
    "(iv) var4 = 1."
   ]
  },
  {
   "cell_type": "code",
   "execution_count": 15,
   "id": "d79a9c0a-842e-4b52-8c94-0a621d5d1bd9",
   "metadata": {},
   "outputs": [],
   "source": [
    "var1=''"
   ]
  },
  {
   "cell_type": "code",
   "execution_count": 16,
   "id": "7e6c8078-f710-4459-b4f6-4f9deb7822ba",
   "metadata": {},
   "outputs": [
    {
     "data": {
      "text/plain": [
       "str"
      ]
     },
     "execution_count": 16,
     "metadata": {},
     "output_type": "execute_result"
    }
   ],
   "source": [
    "type(var1)"
   ]
  },
  {
   "cell_type": "code",
   "execution_count": 17,
   "id": "51a8570d-8d9e-458a-be13-b2fc31bb509e",
   "metadata": {},
   "outputs": [],
   "source": [
    "var2='[DS,ML,Python]'"
   ]
  },
  {
   "cell_type": "code",
   "execution_count": 18,
   "id": "0b3c48c2-5bfd-4ddc-9724-5682af1c0751",
   "metadata": {},
   "outputs": [
    {
     "data": {
      "text/plain": [
       "str"
      ]
     },
     "execution_count": 18,
     "metadata": {},
     "output_type": "execute_result"
    }
   ],
   "source": [
    "type(var2)"
   ]
  },
  {
   "cell_type": "code",
   "execution_count": 19,
   "id": "1d5f6a9b-4d49-4631-8796-d2a43ef42b30",
   "metadata": {},
   "outputs": [],
   "source": [
    "var3=['DS','ML','Python']"
   ]
  },
  {
   "cell_type": "code",
   "execution_count": 20,
   "id": "267b9a8f-fa3f-466d-b361-49743b909da0",
   "metadata": {},
   "outputs": [
    {
     "data": {
      "text/plain": [
       "list"
      ]
     },
     "execution_count": 20,
     "metadata": {},
     "output_type": "execute_result"
    }
   ],
   "source": [
    "type(var3)"
   ]
  },
  {
   "cell_type": "code",
   "execution_count": 21,
   "id": "847ebdb3-7751-4d51-aaa4-a1e62722b16d",
   "metadata": {},
   "outputs": [],
   "source": [
    "var4=1"
   ]
  },
  {
   "cell_type": "code",
   "execution_count": 22,
   "id": "628d9d0f-406a-4150-b574-a3626bcb055f",
   "metadata": {},
   "outputs": [
    {
     "data": {
      "text/plain": [
       "int"
      ]
     },
     "execution_count": 22,
     "metadata": {},
     "output_type": "execute_result"
    }
   ],
   "source": [
    "type(var4)"
   ]
  },
  {
   "cell_type": "raw",
   "id": "6016aa7b-f515-4e32-a492-878d1a7efaad",
   "metadata": {},
   "source": [
    "Q3. Explain the use of the following operators using an example:\n",
    "(i) /\n",
    "(ii) %\n",
    "(iii) //\n",
    "(iv) **"
   ]
  },
  {
   "cell_type": "raw",
   "id": "fca8861f-7af6-431e-8f8c-635d26ab97a2",
   "metadata": {},
   "source": [
    "(i) / : This operator is used to divide two intergers in python."
   ]
  },
  {
   "cell_type": "code",
   "execution_count": 26,
   "id": "6ad2c144-13cd-4af9-ac8a-6a2f9fa41db0",
   "metadata": {},
   "outputs": [
    {
     "data": {
      "text/plain": [
       "27.0"
      ]
     },
     "execution_count": 26,
     "metadata": {},
     "output_type": "execute_result"
    }
   ],
   "source": [
    "729/27"
   ]
  },
  {
   "cell_type": "raw",
   "id": "30e7d4cc-d127-4ec6-8a62-bf3a86e42bb5",
   "metadata": {},
   "source": [
    "(ii) % : This operator is used to determine the reminder when two intergers are divided in python."
   ]
  },
  {
   "cell_type": "code",
   "execution_count": 27,
   "id": "c9e64021-4b9a-4e7f-b58d-925384e15e93",
   "metadata": {},
   "outputs": [
    {
     "data": {
      "text/plain": [
       "27.037037037037038"
      ]
     },
     "execution_count": 27,
     "metadata": {},
     "output_type": "execute_result"
    }
   ],
   "source": [
    "730/27"
   ]
  },
  {
   "cell_type": "raw",
   "id": "b0bd5a56-bf08-4e75-a562-7b82d3625c6d",
   "metadata": {},
   "source": [
    "(iii) // : This operator is used to divide two intergers and eliminate the decimal from integer value."
   ]
  },
  {
   "cell_type": "code",
   "execution_count": 28,
   "id": "0cbc20f5-c56d-42ee-8e14-13419187c953",
   "metadata": {},
   "outputs": [
    {
     "data": {
      "text/plain": [
       "27"
      ]
     },
     "execution_count": 28,
     "metadata": {},
     "output_type": "execute_result"
    }
   ],
   "source": [
    "730//27"
   ]
  },
  {
   "cell_type": "raw",
   "id": "af400971-63e2-40bc-8497-9f01ee4dc5f9",
   "metadata": {},
   "source": [
    "(iv) ** : This operator is used as exponent."
   ]
  },
  {
   "cell_type": "code",
   "execution_count": 29,
   "id": "a4f85b8f-826b-4876-81f2-b0bf9c23ebac",
   "metadata": {},
   "outputs": [
    {
     "data": {
      "text/plain": [
       "32"
      ]
     },
     "execution_count": 29,
     "metadata": {},
     "output_type": "execute_result"
    }
   ],
   "source": [
    "2**5"
   ]
  },
  {
   "cell_type": "raw",
   "id": "e0c17d96-96da-4d19-bf50-948a34ba5368",
   "metadata": {},
   "source": [
    "Q4. Create a list of length 10 of your choice containing multiple types of data. Using for loop print the\n",
    "element and its data type."
   ]
  },
  {
   "cell_type": "code",
   "execution_count": 2,
   "id": "ef531d85-b930-4269-9c00-774766fe5319",
   "metadata": {},
   "outputs": [
    {
     "name": "stdout",
     "output_type": "stream",
     "text": [
      "Skills <class 'str'>\n",
      "(8+9j) <class 'complex'>\n",
      "5.75 <class 'float'>\n",
      "455 <class 'int'>\n",
      "False <class 'bool'>\n",
      "['Path', 35.5, 250] <class 'list'>\n",
      "('Road', ['Path', 35.5, 250], 55.6) <class 'tuple'>\n",
      "None <class 'NoneType'>\n",
      "(1, 2, 3, 4) <class 'tuple'>\n",
      "True <class 'bool'>\n"
     ]
    }
   ],
   "source": [
    "List_PW = [\"Skills\",8+9j,5.75,455,False,['Path',35.5,250],(\"Road\", ['Path',35.5,250], 55.6),None,(1,2,3,4),True]\n",
    "for element in List_PW:\n",
    "    print(element, type(element))"
   ]
  },
  {
   "cell_type": "code",
   "execution_count": 11,
   "id": "1ce17da5-7f6c-47e0-8849-602e2d68978b",
   "metadata": {},
   "outputs": [
    {
     "data": {
      "text/plain": [
       "10"
      ]
     },
     "execution_count": 11,
     "metadata": {},
     "output_type": "execute_result"
    }
   ],
   "source": [
    "len(List_PW)"
   ]
  },
  {
   "cell_type": "raw",
   "id": "f105183a-ab08-4153-b2f9-20930bf8a250",
   "metadata": {},
   "source": [
    "Q5.Using a while loop, verify if the number A is purely divisible by number B and if so then how many\n",
    "times it can be divisible."
   ]
  },
  {
   "cell_type": "code",
   "execution_count": 5,
   "id": "af80ae03-030c-4079-84a2-3f24b359b440",
   "metadata": {},
   "outputs": [
    {
     "data": {
      "text/plain": [
       "65536"
      ]
     },
     "execution_count": 5,
     "metadata": {},
     "output_type": "execute_result"
    }
   ],
   "source": [
    "2**16"
   ]
  },
  {
   "cell_type": "code",
   "execution_count": 18,
   "id": "cfeee450-1fd0-4a5d-9cca-ffc595d3d983",
   "metadata": {},
   "outputs": [
    {
     "name": "stdout",
     "output_type": "stream",
     "text": [
      "A is divisible by B 16 times.\n"
     ]
    }
   ],
   "source": [
    "A=65536\n",
    "B=2\n",
    "count = 0\n",
    "while A % B == 0:\n",
    "    A = A // B\n",
    "    count += 1\n",
    "print(f\"A is divisible by B {count} times.\")"
   ]
  },
  {
   "cell_type": "raw",
   "id": "35129ab3-0a5e-4b95-94f9-8e5e6d119705",
   "metadata": {},
   "source": [
    "Q6. Create a list containing 25 int type data. Using for loop and if-else condition print if the element is\n",
    "divisible by 3 or not."
   ]
  },
  {
   "cell_type": "code",
   "execution_count": 21,
   "id": "2c96f8dc-0384-471a-924b-c6da007e63e0",
   "metadata": {},
   "outputs": [
    {
     "name": "stdout",
     "output_type": "stream",
     "text": [
      "1 is not divisible by 3.\n",
      "2 is not divisible by 3.\n",
      "3 is divisible by 3.\n",
      "4 is not divisible by 3.\n",
      "5 is not divisible by 3.\n",
      "6 is divisible by 3.\n",
      "7 is not divisible by 3.\n",
      "8 is not divisible by 3.\n",
      "9 is divisible by 3.\n",
      "10 is not divisible by 3.\n",
      "11 is not divisible by 3.\n",
      "12 is divisible by 3.\n",
      "13 is not divisible by 3.\n",
      "14 is not divisible by 3.\n",
      "15 is divisible by 3.\n",
      "16 is not divisible by 3.\n",
      "17 is not divisible by 3.\n",
      "18 is divisible by 3.\n",
      "19 is not divisible by 3.\n",
      "20 is not divisible by 3.\n",
      "21 is divisible by 3.\n",
      "22 is not divisible by 3.\n",
      "23 is not divisible by 3.\n",
      "24 is divisible by 3.\n",
      "25 is not divisible by 3.\n"
     ]
    }
   ],
   "source": [
    "List_PWS=[1,2,3,4,5,6,7,8,9,10,11,12,13,14,15,16,17,18,19,20,21,22,23,24,25]\n",
    "for element in List_PWS:\n",
    "    if element % 3 == 0:\n",
    "        print(f\"{element} is divisible by 3.\")\n",
    "    else:\n",
    "        print(f\"{element} is not divisible by 3.\")"
   ]
  },
  {
   "cell_type": "code",
   "execution_count": 52,
   "id": "0cbdc2b0-c35d-41fc-8264-0c9a20d49c2e",
   "metadata": {},
   "outputs": [
    {
     "name": "stdout",
     "output_type": "stream",
     "text": [
      "No. of Int Type Data in List_PWS: 25\n"
     ]
    }
   ],
   "source": [
    "List_PWS=[1,2,3,4,5,6,7,8,9,10,11,12,13,14,15,16,17,18,19,20,21,22,23,24,25]\n",
    "count=0\n",
    "for int in List_PWS:\n",
    "    count=count+1\n",
    "print(\"No. of Int Type Data in List_PWS:\",count)"
   ]
  },
  {
   "cell_type": "raw",
   "id": "ebc55eba-cecc-49bd-b391-34bbedf6a68f",
   "metadata": {},
   "source": [
    "Q7. What do you understand about mutable and immutable data types? Give examples for both showing this property."
   ]
  },
  {
   "cell_type": "raw",
   "id": "b2d47cc2-4561-4182-a8f3-7db85f979259",
   "metadata": {},
   "source": [
    "1) Mutable: > The values can be modified after they are created\n",
    "            > The changes are made directly to the object in memory without creating a new object\n",
    "            > Examples:Lists, Dictionaries, and Sets"
   ]
  },
  {
   "cell_type": "raw",
   "id": "d09a7195-8597-442c-a1f2-094161434371",
   "metadata": {},
   "source": [
    "2) Immutable: > The values cannot be modified once they are created\n",
    "              > When an immutable object is assigned a new value, a new object is created in memory\n",
    "              > Examples: Integers, Floats, Booleans, Strings, and Tuples"
   ]
  },
  {
   "cell_type": "raw",
   "id": "f80b1bee-53e5-4ead-945a-2c9074e31730",
   "metadata": {},
   "source": [
    "***Mutable***"
   ]
  },
  {
   "cell_type": "code",
   "execution_count": 55,
   "id": "6475a710-ed47-493f-a2fc-6316adfabae3",
   "metadata": {},
   "outputs": [
    {
     "name": "stdout",
     "output_type": "stream",
     "text": [
      "[1, 2, 3, 4, 5]\n"
     ]
    }
   ],
   "source": [
    "List = [1,2,3,4,5]\n",
    "print(List)"
   ]
  },
  {
   "cell_type": "code",
   "execution_count": 57,
   "id": "3b33e609-20c9-43fe-9c56-1b5e7a1d3351",
   "metadata": {},
   "outputs": [
    {
     "name": "stdout",
     "output_type": "stream",
     "text": [
      "[1, 2, 3, 4, 5, 6]\n"
     ]
    }
   ],
   "source": [
    "List.append(6)\n",
    "print(List)"
   ]
  },
  {
   "cell_type": "code",
   "execution_count": 69,
   "id": "571feae5-d14c-42d2-9055-32c63816524d",
   "metadata": {},
   "outputs": [],
   "source": [
    "List[0]=\"PWS\""
   ]
  },
  {
   "cell_type": "code",
   "execution_count": 64,
   "id": "8925bdee-6593-4bc6-a20b-10aef80a3ff6",
   "metadata": {},
   "outputs": [
    {
     "data": {
      "text/plain": [
       "['PWS', 2, 3, 4, 5, 6]"
      ]
     },
     "execution_count": 64,
     "metadata": {},
     "output_type": "execute_result"
    }
   ],
   "source": [
    "List"
   ]
  },
  {
   "cell_type": "raw",
   "id": "af4b7f0b-605b-4778-8ade-58607964a6a2",
   "metadata": {},
   "source": [
    "***Immutable***"
   ]
  },
  {
   "cell_type": "code",
   "execution_count": 65,
   "id": "0609ef8d-4d28-4436-9944-a5b467389313",
   "metadata": {},
   "outputs": [],
   "source": [
    "Tuple = (\"Road\", ['Path',35.5,250], 55.6)"
   ]
  },
  {
   "cell_type": "code",
   "execution_count": 66,
   "id": "ce3b401e-77f6-49da-800d-59287adf8784",
   "metadata": {},
   "outputs": [
    {
     "data": {
      "text/plain": [
       "55.6"
      ]
     },
     "execution_count": 66,
     "metadata": {},
     "output_type": "execute_result"
    }
   ],
   "source": [
    "Tuple[2]"
   ]
  },
  {
   "cell_type": "code",
   "execution_count": 67,
   "id": "ca6b01af-adcf-4c96-bd0e-a122443164c7",
   "metadata": {},
   "outputs": [
    {
     "ename": "TypeError",
     "evalue": "'tuple' object does not support item assignment",
     "output_type": "error",
     "traceback": [
      "\u001b[0;31m---------------------------------------------------------------------------\u001b[0m",
      "\u001b[0;31mTypeError\u001b[0m                                 Traceback (most recent call last)",
      "Cell \u001b[0;32mIn[67], line 1\u001b[0m\n\u001b[0;32m----> 1\u001b[0m \u001b[43mTuple\u001b[49m\u001b[43m[\u001b[49m\u001b[38;5;241;43m2\u001b[39;49m\u001b[43m]\u001b[49m \u001b[38;5;241m=\u001b[39m \u001b[38;5;241m45.55\u001b[39m\n",
      "\u001b[0;31mTypeError\u001b[0m: 'tuple' object does not support item assignment"
     ]
    }
   ],
   "source": [
    "Tuple[2] = 45.55"
   ]
  },
  {
   "cell_type": "raw",
   "id": "1a1e3276-1619-4c51-85a0-63e21061b741",
   "metadata": {},
   "source": [
    "As we can see above, Tuple is immutable - we cannot change any data inside a Tuple."
   ]
  }
 ],
 "metadata": {
  "kernelspec": {
   "display_name": "Python 3 (ipykernel)",
   "language": "python",
   "name": "python3"
  },
  "language_info": {
   "codemirror_mode": {
    "name": "ipython",
    "version": 3
   },
   "file_extension": ".py",
   "mimetype": "text/x-python",
   "name": "python",
   "nbconvert_exporter": "python",
   "pygments_lexer": "ipython3",
   "version": "3.10.8"
  }
 },
 "nbformat": 4,
 "nbformat_minor": 5
}
